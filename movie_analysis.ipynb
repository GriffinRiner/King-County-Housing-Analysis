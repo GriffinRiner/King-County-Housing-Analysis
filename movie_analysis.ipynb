{
 "cells": [
  {
   "cell_type": "markdown",
   "metadata": {
    "tags": []
   },
   "source": [
    "# **Prepared data for Analysis**"
   ]
  },
  {
   "cell_type": "markdown",
   "metadata": {
    "tags": []
   },
   "source": [
    "## Imported data and loaded in dataframe"
   ]
  },
  {
   "cell_type": "code",
   "execution_count": 1,
   "metadata": {},
   "outputs": [],
   "source": [
    "import pandas as pd\n",
    "import numpy as np\n",
    "import matplotlib.pyplot as plt\n",
    "from sklearn.linear_model import LinearRegression\n",
    "from sklearn.impute import SimpleImputer\n",
    "from sklearn.metrics import mean_squared_error\n",
    "from sklearn.model_selection import train_test_split\n",
    "import seaborn as sns\n",
    "from sklearn.preprocessing import *\n",
    "from sklearn.model_selection import cross_val_score\n",
    "import statsmodels.api as sm\n",
    "import scipy.stats as stats\n",
    "from statsmodels.stats.outliers_influence import variance_inflation_factor\n",
    "import pylab \n",
    "%matplotlib inline\n",
    "\n",
    "import warnings\n",
    "warnings.filterwarnings(\"ignore\")\n",
    "\n",
    "path = '../../../data/kc_housing_data.csv'\n",
    "all_data = pd.read_csv('https://raw.githubusercontent.com/learn-co-students/bsc-phase-two-project/main/data/kc_house_data.csv')\n",
    "\n"
   ]
  },
  {
   "cell_type": "code",
   "execution_count": 2,
   "metadata": {},
   "outputs": [
    {
     "data": {
      "text/html": [
       "<div>\n",
       "<style scoped>\n",
       "    .dataframe tbody tr th:only-of-type {\n",
       "        vertical-align: middle;\n",
       "    }\n",
       "\n",
       "    .dataframe tbody tr th {\n",
       "        vertical-align: top;\n",
       "    }\n",
       "\n",
       "    .dataframe thead th {\n",
       "        text-align: right;\n",
       "    }\n",
       "</style>\n",
       "<table border=\"1\" class=\"dataframe\">\n",
       "  <thead>\n",
       "    <tr style=\"text-align: right;\">\n",
       "      <th></th>\n",
       "      <th>id</th>\n",
       "      <th>date</th>\n",
       "      <th>price</th>\n",
       "      <th>bedrooms</th>\n",
       "      <th>bathrooms</th>\n",
       "      <th>sqft_living</th>\n",
       "      <th>sqft_lot</th>\n",
       "      <th>floors</th>\n",
       "      <th>waterfront</th>\n",
       "      <th>view</th>\n",
       "      <th>...</th>\n",
       "      <th>grade</th>\n",
       "      <th>sqft_above</th>\n",
       "      <th>sqft_basement</th>\n",
       "      <th>yr_built</th>\n",
       "      <th>yr_renovated</th>\n",
       "      <th>zipcode</th>\n",
       "      <th>lat</th>\n",
       "      <th>long</th>\n",
       "      <th>sqft_living15</th>\n",
       "      <th>sqft_lot15</th>\n",
       "    </tr>\n",
       "  </thead>\n",
       "  <tbody>\n",
       "    <tr>\n",
       "      <th>0</th>\n",
       "      <td>7129300520</td>\n",
       "      <td>10/13/2014</td>\n",
       "      <td>221900.0</td>\n",
       "      <td>3</td>\n",
       "      <td>1.00</td>\n",
       "      <td>1180</td>\n",
       "      <td>5650</td>\n",
       "      <td>1.0</td>\n",
       "      <td>NaN</td>\n",
       "      <td>0.0</td>\n",
       "      <td>...</td>\n",
       "      <td>7</td>\n",
       "      <td>1180</td>\n",
       "      <td>0.0</td>\n",
       "      <td>1955</td>\n",
       "      <td>0.0</td>\n",
       "      <td>98178</td>\n",
       "      <td>47.5112</td>\n",
       "      <td>-122.257</td>\n",
       "      <td>1340</td>\n",
       "      <td>5650</td>\n",
       "    </tr>\n",
       "    <tr>\n",
       "      <th>1</th>\n",
       "      <td>6414100192</td>\n",
       "      <td>12/9/2014</td>\n",
       "      <td>538000.0</td>\n",
       "      <td>3</td>\n",
       "      <td>2.25</td>\n",
       "      <td>2570</td>\n",
       "      <td>7242</td>\n",
       "      <td>2.0</td>\n",
       "      <td>0.0</td>\n",
       "      <td>0.0</td>\n",
       "      <td>...</td>\n",
       "      <td>7</td>\n",
       "      <td>2170</td>\n",
       "      <td>400.0</td>\n",
       "      <td>1951</td>\n",
       "      <td>1991.0</td>\n",
       "      <td>98125</td>\n",
       "      <td>47.7210</td>\n",
       "      <td>-122.319</td>\n",
       "      <td>1690</td>\n",
       "      <td>7639</td>\n",
       "    </tr>\n",
       "    <tr>\n",
       "      <th>2</th>\n",
       "      <td>5631500400</td>\n",
       "      <td>2/25/2015</td>\n",
       "      <td>180000.0</td>\n",
       "      <td>2</td>\n",
       "      <td>1.00</td>\n",
       "      <td>770</td>\n",
       "      <td>10000</td>\n",
       "      <td>1.0</td>\n",
       "      <td>0.0</td>\n",
       "      <td>0.0</td>\n",
       "      <td>...</td>\n",
       "      <td>6</td>\n",
       "      <td>770</td>\n",
       "      <td>0.0</td>\n",
       "      <td>1933</td>\n",
       "      <td>NaN</td>\n",
       "      <td>98028</td>\n",
       "      <td>47.7379</td>\n",
       "      <td>-122.233</td>\n",
       "      <td>2720</td>\n",
       "      <td>8062</td>\n",
       "    </tr>\n",
       "    <tr>\n",
       "      <th>3</th>\n",
       "      <td>2487200875</td>\n",
       "      <td>12/9/2014</td>\n",
       "      <td>604000.0</td>\n",
       "      <td>4</td>\n",
       "      <td>3.00</td>\n",
       "      <td>1960</td>\n",
       "      <td>5000</td>\n",
       "      <td>1.0</td>\n",
       "      <td>0.0</td>\n",
       "      <td>0.0</td>\n",
       "      <td>...</td>\n",
       "      <td>7</td>\n",
       "      <td>1050</td>\n",
       "      <td>910.0</td>\n",
       "      <td>1965</td>\n",
       "      <td>0.0</td>\n",
       "      <td>98136</td>\n",
       "      <td>47.5208</td>\n",
       "      <td>-122.393</td>\n",
       "      <td>1360</td>\n",
       "      <td>5000</td>\n",
       "    </tr>\n",
       "    <tr>\n",
       "      <th>4</th>\n",
       "      <td>1954400510</td>\n",
       "      <td>2/18/2015</td>\n",
       "      <td>510000.0</td>\n",
       "      <td>3</td>\n",
       "      <td>2.00</td>\n",
       "      <td>1680</td>\n",
       "      <td>8080</td>\n",
       "      <td>1.0</td>\n",
       "      <td>0.0</td>\n",
       "      <td>0.0</td>\n",
       "      <td>...</td>\n",
       "      <td>8</td>\n",
       "      <td>1680</td>\n",
       "      <td>0.0</td>\n",
       "      <td>1987</td>\n",
       "      <td>0.0</td>\n",
       "      <td>98074</td>\n",
       "      <td>47.6168</td>\n",
       "      <td>-122.045</td>\n",
       "      <td>1800</td>\n",
       "      <td>7503</td>\n",
       "    </tr>\n",
       "    <tr>\n",
       "      <th>...</th>\n",
       "      <td>...</td>\n",
       "      <td>...</td>\n",
       "      <td>...</td>\n",
       "      <td>...</td>\n",
       "      <td>...</td>\n",
       "      <td>...</td>\n",
       "      <td>...</td>\n",
       "      <td>...</td>\n",
       "      <td>...</td>\n",
       "      <td>...</td>\n",
       "      <td>...</td>\n",
       "      <td>...</td>\n",
       "      <td>...</td>\n",
       "      <td>...</td>\n",
       "      <td>...</td>\n",
       "      <td>...</td>\n",
       "      <td>...</td>\n",
       "      <td>...</td>\n",
       "      <td>...</td>\n",
       "      <td>...</td>\n",
       "      <td>...</td>\n",
       "    </tr>\n",
       "    <tr>\n",
       "      <th>21592</th>\n",
       "      <td>263000018</td>\n",
       "      <td>5/21/2014</td>\n",
       "      <td>360000.0</td>\n",
       "      <td>3</td>\n",
       "      <td>2.50</td>\n",
       "      <td>1530</td>\n",
       "      <td>1131</td>\n",
       "      <td>3.0</td>\n",
       "      <td>0.0</td>\n",
       "      <td>0.0</td>\n",
       "      <td>...</td>\n",
       "      <td>8</td>\n",
       "      <td>1530</td>\n",
       "      <td>0.0</td>\n",
       "      <td>2009</td>\n",
       "      <td>0.0</td>\n",
       "      <td>98103</td>\n",
       "      <td>47.6993</td>\n",
       "      <td>-122.346</td>\n",
       "      <td>1530</td>\n",
       "      <td>1509</td>\n",
       "    </tr>\n",
       "    <tr>\n",
       "      <th>21593</th>\n",
       "      <td>6600060120</td>\n",
       "      <td>2/23/2015</td>\n",
       "      <td>400000.0</td>\n",
       "      <td>4</td>\n",
       "      <td>2.50</td>\n",
       "      <td>2310</td>\n",
       "      <td>5813</td>\n",
       "      <td>2.0</td>\n",
       "      <td>0.0</td>\n",
       "      <td>0.0</td>\n",
       "      <td>...</td>\n",
       "      <td>8</td>\n",
       "      <td>2310</td>\n",
       "      <td>0.0</td>\n",
       "      <td>2014</td>\n",
       "      <td>0.0</td>\n",
       "      <td>98146</td>\n",
       "      <td>47.5107</td>\n",
       "      <td>-122.362</td>\n",
       "      <td>1830</td>\n",
       "      <td>7200</td>\n",
       "    </tr>\n",
       "    <tr>\n",
       "      <th>21594</th>\n",
       "      <td>1523300141</td>\n",
       "      <td>6/23/2014</td>\n",
       "      <td>402101.0</td>\n",
       "      <td>2</td>\n",
       "      <td>0.75</td>\n",
       "      <td>1020</td>\n",
       "      <td>1350</td>\n",
       "      <td>2.0</td>\n",
       "      <td>0.0</td>\n",
       "      <td>0.0</td>\n",
       "      <td>...</td>\n",
       "      <td>7</td>\n",
       "      <td>1020</td>\n",
       "      <td>0.0</td>\n",
       "      <td>2009</td>\n",
       "      <td>0.0</td>\n",
       "      <td>98144</td>\n",
       "      <td>47.5944</td>\n",
       "      <td>-122.299</td>\n",
       "      <td>1020</td>\n",
       "      <td>2007</td>\n",
       "    </tr>\n",
       "    <tr>\n",
       "      <th>21595</th>\n",
       "      <td>291310100</td>\n",
       "      <td>1/16/2015</td>\n",
       "      <td>400000.0</td>\n",
       "      <td>3</td>\n",
       "      <td>2.50</td>\n",
       "      <td>1600</td>\n",
       "      <td>2388</td>\n",
       "      <td>2.0</td>\n",
       "      <td>NaN</td>\n",
       "      <td>0.0</td>\n",
       "      <td>...</td>\n",
       "      <td>8</td>\n",
       "      <td>1600</td>\n",
       "      <td>0.0</td>\n",
       "      <td>2004</td>\n",
       "      <td>0.0</td>\n",
       "      <td>98027</td>\n",
       "      <td>47.5345</td>\n",
       "      <td>-122.069</td>\n",
       "      <td>1410</td>\n",
       "      <td>1287</td>\n",
       "    </tr>\n",
       "    <tr>\n",
       "      <th>21596</th>\n",
       "      <td>1523300157</td>\n",
       "      <td>10/15/2014</td>\n",
       "      <td>325000.0</td>\n",
       "      <td>2</td>\n",
       "      <td>0.75</td>\n",
       "      <td>1020</td>\n",
       "      <td>1076</td>\n",
       "      <td>2.0</td>\n",
       "      <td>0.0</td>\n",
       "      <td>0.0</td>\n",
       "      <td>...</td>\n",
       "      <td>7</td>\n",
       "      <td>1020</td>\n",
       "      <td>0.0</td>\n",
       "      <td>2008</td>\n",
       "      <td>0.0</td>\n",
       "      <td>98144</td>\n",
       "      <td>47.5941</td>\n",
       "      <td>-122.299</td>\n",
       "      <td>1020</td>\n",
       "      <td>1357</td>\n",
       "    </tr>\n",
       "  </tbody>\n",
       "</table>\n",
       "<p>21597 rows × 21 columns</p>\n",
       "</div>"
      ],
      "text/plain": [
       "               id        date     price  bedrooms  bathrooms  sqft_living  \\\n",
       "0      7129300520  10/13/2014  221900.0         3       1.00         1180   \n",
       "1      6414100192   12/9/2014  538000.0         3       2.25         2570   \n",
       "2      5631500400   2/25/2015  180000.0         2       1.00          770   \n",
       "3      2487200875   12/9/2014  604000.0         4       3.00         1960   \n",
       "4      1954400510   2/18/2015  510000.0         3       2.00         1680   \n",
       "...           ...         ...       ...       ...        ...          ...   \n",
       "21592   263000018   5/21/2014  360000.0         3       2.50         1530   \n",
       "21593  6600060120   2/23/2015  400000.0         4       2.50         2310   \n",
       "21594  1523300141   6/23/2014  402101.0         2       0.75         1020   \n",
       "21595   291310100   1/16/2015  400000.0         3       2.50         1600   \n",
       "21596  1523300157  10/15/2014  325000.0         2       0.75         1020   \n",
       "\n",
       "       sqft_lot  floors  waterfront  view  ...  grade  sqft_above  \\\n",
       "0          5650     1.0         NaN   0.0  ...      7        1180   \n",
       "1          7242     2.0         0.0   0.0  ...      7        2170   \n",
       "2         10000     1.0         0.0   0.0  ...      6         770   \n",
       "3          5000     1.0         0.0   0.0  ...      7        1050   \n",
       "4          8080     1.0         0.0   0.0  ...      8        1680   \n",
       "...         ...     ...         ...   ...  ...    ...         ...   \n",
       "21592      1131     3.0         0.0   0.0  ...      8        1530   \n",
       "21593      5813     2.0         0.0   0.0  ...      8        2310   \n",
       "21594      1350     2.0         0.0   0.0  ...      7        1020   \n",
       "21595      2388     2.0         NaN   0.0  ...      8        1600   \n",
       "21596      1076     2.0         0.0   0.0  ...      7        1020   \n",
       "\n",
       "       sqft_basement yr_built  yr_renovated  zipcode      lat     long  \\\n",
       "0                0.0     1955           0.0    98178  47.5112 -122.257   \n",
       "1              400.0     1951        1991.0    98125  47.7210 -122.319   \n",
       "2                0.0     1933           NaN    98028  47.7379 -122.233   \n",
       "3              910.0     1965           0.0    98136  47.5208 -122.393   \n",
       "4                0.0     1987           0.0    98074  47.6168 -122.045   \n",
       "...              ...      ...           ...      ...      ...      ...   \n",
       "21592            0.0     2009           0.0    98103  47.6993 -122.346   \n",
       "21593            0.0     2014           0.0    98146  47.5107 -122.362   \n",
       "21594            0.0     2009           0.0    98144  47.5944 -122.299   \n",
       "21595            0.0     2004           0.0    98027  47.5345 -122.069   \n",
       "21596            0.0     2008           0.0    98144  47.5941 -122.299   \n",
       "\n",
       "       sqft_living15  sqft_lot15  \n",
       "0               1340        5650  \n",
       "1               1690        7639  \n",
       "2               2720        8062  \n",
       "3               1360        5000  \n",
       "4               1800        7503  \n",
       "...              ...         ...  \n",
       "21592           1530        1509  \n",
       "21593           1830        7200  \n",
       "21594           1020        2007  \n",
       "21595           1410        1287  \n",
       "21596           1020        1357  \n",
       "\n",
       "[21597 rows x 21 columns]"
      ]
     },
     "execution_count": 2,
     "metadata": {},
     "output_type": "execute_result"
    }
   ],
   "source": [
    "all_data"
   ]
  },
  {
   "cell_type": "markdown",
   "metadata": {
    "tags": []
   },
   "source": [
    "## Created a map of the area"
   ]
  },
  {
   "cell_type": "code",
   "execution_count": 4,
   "metadata": {},
   "outputs": [
    {
     "ename": "NameError",
     "evalue": "name 'df_seattle' is not defined",
     "output_type": "error",
     "traceback": [
      "\u001b[0;31m---------------------------------------------------------------------------\u001b[0m",
      "\u001b[0;31mNameError\u001b[0m                                 Traceback (most recent call last)",
      "\u001b[0;32m<ipython-input-4-00d6629b25c7>\u001b[0m in \u001b[0;36m<module>\u001b[0;34m\u001b[0m\n\u001b[1;32m      1\u001b[0m \u001b[0mfig\u001b[0m\u001b[0;34m,\u001b[0m \u001b[0max\u001b[0m \u001b[0;34m=\u001b[0m \u001b[0mplt\u001b[0m\u001b[0;34m.\u001b[0m\u001b[0msubplots\u001b[0m\u001b[0;34m(\u001b[0m\u001b[0mfigsize\u001b[0m\u001b[0;34m=\u001b[0m\u001b[0;34m(\u001b[0m\u001b[0;36m15\u001b[0m\u001b[0;34m,\u001b[0m\u001b[0;36m10\u001b[0m\u001b[0;34m)\u001b[0m\u001b[0;34m)\u001b[0m\u001b[0;34m\u001b[0m\u001b[0;34m\u001b[0m\u001b[0m\n\u001b[0;32m----> 2\u001b[0;31m \u001b[0max\u001b[0m\u001b[0;34m.\u001b[0m\u001b[0mscatter\u001b[0m\u001b[0;34m(\u001b[0m\u001b[0mx\u001b[0m\u001b[0;34m=\u001b[0m\u001b[0;34m'long'\u001b[0m\u001b[0;34m,\u001b[0m \u001b[0my\u001b[0m\u001b[0;34m=\u001b[0m\u001b[0;34m'lat'\u001b[0m\u001b[0;34m,\u001b[0m \u001b[0mdata\u001b[0m\u001b[0;34m=\u001b[0m\u001b[0mdf_seattle\u001b[0m\u001b[0;34m,\u001b[0m \u001b[0malpha\u001b[0m\u001b[0;34m=\u001b[0m\u001b[0;36m.5\u001b[0m\u001b[0;34m)\u001b[0m\u001b[0;34m\u001b[0m\u001b[0;34m\u001b[0m\u001b[0m\n\u001b[0m\u001b[1;32m      3\u001b[0m \u001b[0max\u001b[0m\u001b[0;34m.\u001b[0m\u001b[0mscatter\u001b[0m\u001b[0;34m(\u001b[0m\u001b[0mx\u001b[0m\u001b[0;34m=\u001b[0m\u001b[0;34m'long'\u001b[0m\u001b[0;34m,\u001b[0m \u001b[0my\u001b[0m\u001b[0;34m=\u001b[0m\u001b[0;34m'lat'\u001b[0m\u001b[0;34m,\u001b[0m \u001b[0mdata\u001b[0m\u001b[0;34m=\u001b[0m\u001b[0mdf_country\u001b[0m\u001b[0;34m,\u001b[0m \u001b[0malpha\u001b[0m\u001b[0;34m=\u001b[0m\u001b[0;36m.5\u001b[0m\u001b[0;34m,\u001b[0m \u001b[0mc\u001b[0m\u001b[0;34m=\u001b[0m\u001b[0;34m'green'\u001b[0m\u001b[0;34m)\u001b[0m\u001b[0;34m;\u001b[0m\u001b[0;34m\u001b[0m\u001b[0;34m\u001b[0m\u001b[0m\n",
      "\u001b[0;31mNameError\u001b[0m: name 'df_seattle' is not defined"
     ]
    },
    {
     "data": {
      "image/png": "[encoded data removed]",
      "text/plain": [
       "<Figure size 1080x720 with 1 Axes>"
      ]
     },
     "metadata": {
      "needs_background": "light"
     },
     "output_type": "display_data"
    }
   ],
   "source": [
    "fig, ax = plt.subplots(figsize=(15,10))\n",
    "ax.scatter(x='long', y='lat', data=df_seattle, alpha=.5)\n",
    "ax.scatter(x='long', y='lat', data=df_country, alpha=.5, c='green');"
   ]
  },
  {
   "cell_type": "markdown",
   "metadata": {
    "tags": []
   },
   "source": [
    "# **Cleaning and Creating new variables**"
   ]
  },
  {
   "cell_type": "markdown",
   "metadata": {
    "tags": []
   },
   "source": [
    "## Added Age and Cleaned Columns"
   ]
  },
  {
   "cell_type": "code",
   "execution_count": 5,
   "metadata": {},
   "outputs": [],
   "source": [
    "df = all_data.drop(['view', 'zipcode', 'sqft_above', 'sqft_living15', 'sqft_lot15'], axis=1)"
   ]
  },
  {
   "cell_type": "code",
   "execution_count": 6,
   "metadata": {},
   "outputs": [],
   "source": [
    "yrs = [int(x[-4:]) for x in df['date']]\n",
    "df['date'] = yrs"
   ]
  },
  {
   "cell_type": "code",
   "execution_count": 7,
   "metadata": {},
   "outputs": [],
   "source": [
    "for x in range(len(df)):\n",
    "    if df['yr_renovated'][x] == True:\n",
    "        if df['yr_renovated'][x] > 0:\n",
    "            df['yr_built'][x] = df['yr_renovated'][x]"
   ]
  },
  {
   "cell_type": "code",
   "execution_count": 8,
   "metadata": {},
   "outputs": [],
   "source": [
    "df['renovated'] = [int(x) for x in (df['yr_renovated'] > 0)]"
   ]
  },
  {
   "cell_type": "code",
   "execution_count": 9,
   "metadata": {},
   "outputs": [],
   "source": [
    "df['yr_renovated/built'] = df['yr_built']"
   ]
  },
  {
   "cell_type": "code",
   "execution_count": 10,
   "metadata": {},
   "outputs": [],
   "source": [
    "df['age'] = df['date'] - df['yr_renovated/built']"
   ]
  },
  {
   "cell_type": "code",
   "execution_count": 11,
   "metadata": {},
   "outputs": [],
   "source": [
    "df.drop(['yr_renovated','yr_built', 'date'], axis=1, inplace=True)"
   ]
  },
  {
   "cell_type": "markdown",
   "metadata": {
    "tags": []
   },
   "source": [
    "## One-Hot Encoded Basement"
   ]
  },
  {
   "cell_type": "code",
   "execution_count": 12,
   "metadata": {},
   "outputs": [],
   "source": [
    "df['sqft_basement'] = df['sqft_basement'].fillna(0)\n",
    "df['sqft_basement'] = df['sqft_basement'].str.replace('?', '0')\n",
    "df['sqft_basement'] = df['sqft_basement'].astype(float)\n",
    "df['has_basement'] = [int(x) for x in df['sqft_basement'] > 0]\n",
    "df = df.drop('sqft_basement', axis=1)"
   ]
  },
  {
   "cell_type": "markdown",
   "metadata": {
    "tags": []
   },
   "source": [
    "## Created new groups for region, and made DataFrames for country and Seattle Areas"
   ]
  },
  {
   "cell_type": "code",
   "execution_count": 13,
   "metadata": {},
   "outputs": [],
   "source": [
    "df['region'] = [int(x) for x in all_data['long'] > -121.95]"
   ]
  },
  {
   "cell_type": "code",
   "execution_count": 14,
   "metadata": {},
   "outputs": [],
   "source": [
    "df['region'] = [int(x) for x in all_data['long'] > -121.95]\n",
    "df_rural = df.loc[df['region']==1]\n",
    "df_urban = df.loc[df['region']==0]\n",
    "df_country = df.loc[df['region']==1]\n",
    "df_seattle = df.loc[df['region']==0]\n"
   ]
  },
  {
   "cell_type": "code",
   "execution_count": null,
   "metadata": {
    "tags": []
   },
   "outputs": [],
   "source": [
    "fig, ax = plt.subplots(figsize=(15,10))\n",
    "ax.scatter(x='long', y='lat', data=df_urban, alpha=.6, linewidth = .5, c='royalblue', edgecolors = 'black')\n",
    "ax.scatter(x='long', y='lat', data=df_rural, alpha=.6, c='mediumseagreen', linewidth = .5, edgecolors = 'black');\n",
    "ax.set_title('Map of Homes', fontsize=25)\n",
    "ax.set_xlabel('Longitutde', fontsize=15)\n",
    "ax.set_ylabel('Latitude', fontsize=15);\n",
    "plt.savefig('Seattle_map')"
   ]
  },
  {
   "cell_type": "markdown",
   "metadata": {
    "tags": []
   },
   "source": [
    "# **Test model to determine worthwile variables**"
   ]
  },
  {
   "cell_type": "code",
   "execution_count": null,
   "metadata": {
    "tags": []
   },
   "outputs": [],
   "source": [
    "X = sm.add_constant(df[['sqft_living', 'floors', 'grade', 'age']])\n",
    "y = df['price']\n",
    "model_1 = sm.OLS(Y, X)\n",
    "results = model_1.fit()"
   ]
  },
  {
   "cell_type": "code",
   "execution_count": null,
   "metadata": {},
   "outputs": [],
   "source": [
    "residuals = results.resid"
   ]
  },
  {
   "cell_type": "code",
   "execution_count": null,
   "metadata": {},
   "outputs": [],
   "source": [
    "preds = results.predict()"
   ]
  },
  {
   "cell_type": "code",
   "execution_count": null,
   "metadata": {},
   "outputs": [],
   "source": [
    "results.summary()"
   ]
  },
  {
   "cell_type": "markdown",
   "metadata": {
    "tags": []
   },
   "source": [
    "# **Making a Function to check assumptions**"
   ]
  },
  {
   "cell_type": "markdown",
   "metadata": {
    "tags": []
   },
   "source": [
    "## Function that ties it all together"
   ]
  },
  {
   "cell_type": "code",
   "execution_count": null,
   "metadata": {
    "tags": []
   },
   "outputs": [],
   "source": [
    "def check_model(model, X, y):\n",
    "    results = model.fit()\n",
    "    residuals = results.resid\n",
    "    preds = results.predict()\n",
    "        \n",
    "    display(rainbow(results), vif(X), heteroskd(preds, y), norm_resids(residuals))\n",
    "           "
   ]
  },
  {
   "cell_type": "markdown",
   "metadata": {
    "tags": []
   },
   "source": [
    "## Function for Varience Inflection Factor"
   ]
  },
  {
   "cell_type": "code",
   "execution_count": null,
   "metadata": {},
   "outputs": [],
   "source": [
    "def vif(X_data):\n",
    "    rows = X_data.values\n",
    "    vif_df = pd.DataFrame()\n",
    "    vif_df[\"VIF\"] = [variance_inflation_factor(rows, i) for i in range(len(X_data.columns))]\n",
    "    vif_df[\"feature\"] = X_data.columns\n",
    "    return vif_df"
   ]
  },
  {
   "cell_type": "code",
   "execution_count": null,
   "metadata": {},
   "outputs": [],
   "source": [
    "vif(X)"
   ]
  },
  {
   "cell_type": "markdown",
   "metadata": {
    "tags": []
   },
   "source": [
    "## Function of Normality of Residuals"
   ]
  },
  {
   "cell_type": "code",
   "execution_count": null,
   "metadata": {},
   "outputs": [],
   "source": [
    "def norm_resids(residuals):\n",
    "    figureqq = sm.graphics.qqplot(residuals, dist=stats.norm, fit=True, line='45');"
   ]
  },
  {
   "cell_type": "code",
   "execution_count": null,
   "metadata": {},
   "outputs": [],
   "source": [
    "norm_resids(residuals)"
   ]
  },
  {
   "cell_type": "markdown",
   "metadata": {
    "jp-MarkdownHeadingCollapsed": true,
    "tags": []
   },
   "source": [
    "## Function of Heteroskedascicity and Auto Correlation"
   ]
  },
  {
   "cell_type": "code",
   "execution_count": null,
   "metadata": {},
   "outputs": [],
   "source": [
    "def heteroskd (preds, Y):\n",
    "    resids = preds - Y\n",
    "    figure = sns.regplot(preds, resids, color='red', \n",
    "                       line_kws={'color':'blue'}, \n",
    "                       scatter_kws={'alpha':.5});\n",
    "    return figure"
   ]
  },
  {
   "cell_type": "code",
   "execution_count": null,
   "metadata": {},
   "outputs": [],
   "source": [
    "heteroskd(preds, Y);"
   ]
  },
  {
   "cell_type": "markdown",
   "metadata": {
    "tags": []
   },
   "source": [
    "## Function for Linear Rainbow Test"
   ]
  },
  {
   "cell_type": "code",
   "execution_count": null,
   "metadata": {},
   "outputs": [],
   "source": [
    "def rainbow(results):\n",
    "    fstat, pvalue = sm.stats.diagnostic.linear_rainbow(results)\n",
    "    return f'P-value of linearity: {pvalue}'"
   ]
  },
  {
   "cell_type": "code",
   "execution_count": null,
   "metadata": {},
   "outputs": [],
   "source": [
    "rainbow(results)"
   ]
  },
  {
   "cell_type": "markdown",
   "metadata": {
    "tags": []
   },
   "source": [
    "## Function for idenfying outliers and number of outliers"
   ]
  },
  {
   "cell_type": "code",
   "execution_count": 15,
   "metadata": {},
   "outputs": [],
   "source": [
    "def outliers(df, column):\n",
    "    Q1 = df[column].quantile(.25)\n",
    "    Q3 = df[column].quantile(.75)\n",
    "    IQR = Q3 - Q1\n",
    "    lower_lim = Q1 - 1.5 * IQR\n",
    "    upper_lim = Q3 + 1.5 * IQR\n",
    "    \n",
    "    return lower_lim, upper_lim"
   ]
  },
  {
   "cell_type": "code",
   "execution_count": 16,
   "metadata": {},
   "outputs": [],
   "source": [
    "def outlier_count(column):\n",
    "    high_o = (df[column] > outliers(column)[1]).sum()\n",
    "    low_o = (df[column] < outliers(column)[0]).sum()\n",
    "    return high_o, low_o"
   ]
  },
  {
   "cell_type": "code",
   "execution_count": 17,
   "metadata": {},
   "outputs": [
    {
     "data": {
      "text/plain": [
       "(-295.0, 4645.0)"
      ]
     },
     "execution_count": 17,
     "metadata": {},
     "output_type": "execute_result"
    }
   ],
   "source": [
    "outliers(df_rural, 'sqft_living')"
   ]
  },
  {
   "cell_type": "code",
   "execution_count": 18,
   "metadata": {},
   "outputs": [
    {
     "data": {
      "text/plain": [
       "<AxesSubplot:xlabel='sqft_living', ylabel='Density'>"
      ]
     },
     "execution_count": 18,
     "metadata": {},
     "output_type": "execute_result"
    },
    {
     "data": {
      "image/png": "[encoded data removed]",
      "text/plain": [
       "<Figure size 432x288 with 1 Axes>"
      ]
     },
     "metadata": {
      "needs_background": "light"
     },
     "output_type": "display_data"
    }
   ],
   "source": [
    "sns.distplot(df_rural['sqft_living'])"
   ]
  },
  {
   "cell_type": "markdown",
   "metadata": {
    "tags": []
   },
   "source": [
    "# **Models for Seattle and Country Areas**"
   ]
  },
  {
   "cell_type": "markdown",
   "metadata": {
    "tags": []
   },
   "source": [
    "## Model Creation"
   ]
  },
  {
   "cell_type": "code",
   "execution_count": 19,
   "metadata": {},
   "outputs": [],
   "source": [
    "X_urban1 = sm.add_constant(df_urban[['sqft_living','grade','age', 'bathrooms']])\n",
    "y_urban1 = df_urban['price']\n",
    "\n",
    "X_rural1 = sm.add_constant(df_rural[['sqft_living','grade','age', 'bathrooms']])\n",
    "y_rural1 = df_rural['price']\n",
    "\n",
    "base_model_urban = sm.OLS(y_urban1, X_urban1)\n",
    "base_model_rural = sm.OLS(y_rural1, X_rural1)\n",
    "\n",
    "test_results_urban = base_model_urban.fit()\n",
    "test_results_rural = base_model_rural.fit()"
   ]
  },
  {
   "cell_type": "markdown",
   "metadata": {
    "tags": []
   },
   "source": [
    "## Checking Assumptions"
   ]
  },
  {
   "cell_type": "code",
   "execution_count": 20,
   "metadata": {},
   "outputs": [
    {
     "ename": "NameError",
     "evalue": "name 'check_model' is not defined",
     "output_type": "error",
     "traceback": [
      "\u001b[0;31m---------------------------------------------------------------------------\u001b[0m",
      "\u001b[0;31mNameError\u001b[0m                                 Traceback (most recent call last)",
      "\u001b[0;32m<ipython-input-20-a923313c1b0b>\u001b[0m in \u001b[0;36m<module>\u001b[0;34m\u001b[0m\n\u001b[0;32m----> 1\u001b[0;31m \u001b[0mcheck_model\u001b[0m\u001b[0;34m(\u001b[0m\u001b[0mbase_model_rural\u001b[0m\u001b[0;34m,\u001b[0m \u001b[0mX_rural1\u001b[0m\u001b[0;34m,\u001b[0m \u001b[0my_rural1\u001b[0m\u001b[0;34m)\u001b[0m\u001b[0;34m\u001b[0m\u001b[0;34m\u001b[0m\u001b[0m\n\u001b[0m",
      "\u001b[0;31mNameError\u001b[0m: name 'check_model' is not defined"
     ]
    }
   ],
   "source": [
    "check_model(base_model_rural, X_rural1, y_rural1)"
   ]
  },
  {
   "cell_type": "code",
   "execution_count": 21,
   "metadata": {},
   "outputs": [
    {
     "ename": "NameError",
     "evalue": "name 'check_model' is not defined",
     "output_type": "error",
     "traceback": [
      "\u001b[0;31m---------------------------------------------------------------------------\u001b[0m",
      "\u001b[0;31mNameError\u001b[0m                                 Traceback (most recent call last)",
      "\u001b[0;32m<ipython-input-21-e133e6637165>\u001b[0m in \u001b[0;36m<module>\u001b[0;34m\u001b[0m\n\u001b[0;32m----> 1\u001b[0;31m \u001b[0mcheck_model\u001b[0m\u001b[0;34m(\u001b[0m\u001b[0mbase_model_urban\u001b[0m\u001b[0;34m,\u001b[0m \u001b[0mX_urban1\u001b[0m\u001b[0;34m,\u001b[0m \u001b[0my_urban1\u001b[0m\u001b[0;34m)\u001b[0m\u001b[0;34m\u001b[0m\u001b[0;34m\u001b[0m\u001b[0m\n\u001b[0m",
      "\u001b[0;31mNameError\u001b[0m: name 'check_model' is not defined"
     ]
    }
   ],
   "source": [
    "check_model(base_model_urban, X_urban1, y_urban1)"
   ]
  },
  {
   "cell_type": "markdown",
   "metadata": {
    "tags": []
   },
   "source": [
    "# **Creating more specific data**"
   ]
  },
  {
   "cell_type": "markdown",
   "metadata": {
    "tags": []
   },
   "source": [
    "## Function for dropping outliers"
   ]
  },
  {
   "cell_type": "code",
   "execution_count": 22,
   "metadata": {},
   "outputs": [],
   "source": [
    "def df_no_outliers(data, column):\n",
    "    outlier_low = (data[column] < outliers(data, column)[0])\n",
    "    outlier_high = (data[column] > outliers(data, column)[1])\n",
    "    return data[column][~(outlier_low | outlier_high)]"
   ]
  },
  {
   "cell_type": "markdown",
   "metadata": {
    "tags": []
   },
   "source": [
    "## Creating new dataframes without outliers"
   ]
  },
  {
   "cell_type": "code",
   "execution_count": 23,
   "metadata": {},
   "outputs": [],
   "source": [
    "df_urban_no_outliers = df_urban"
   ]
  },
  {
   "cell_type": "code",
   "execution_count": 24,
   "metadata": {},
   "outputs": [
    {
     "ename": "NameError",
     "evalue": "name 'df_seattle_no_outliers' is not defined",
     "output_type": "error",
     "traceback": [
      "\u001b[0;31m---------------------------------------------------------------------------\u001b[0m",
      "\u001b[0;31mNameError\u001b[0m                                 Traceback (most recent call last)",
      "\u001b[0;32m<ipython-input-24-ab4ab6964ee6>\u001b[0m in \u001b[0;36m<module>\u001b[0;34m\u001b[0m\n\u001b[0;32m----> 1\u001b[0;31m \u001b[0mdf_seattle_no_outliers\u001b[0m\u001b[0;34m[\u001b[0m\u001b[0;34m'bathrooms'\u001b[0m\u001b[0;34m]\u001b[0m \u001b[0;34m=\u001b[0m \u001b[0mdf_no_outliers\u001b[0m\u001b[0;34m(\u001b[0m\u001b[0mdf_seattle\u001b[0m\u001b[0;34m,\u001b[0m \u001b[0;34m'bathrooms'\u001b[0m\u001b[0;34m)\u001b[0m\u001b[0;34m\u001b[0m\u001b[0;34m\u001b[0m\u001b[0m\n\u001b[0m\u001b[1;32m      2\u001b[0m \u001b[0mdf_seattle_no_outliers\u001b[0m\u001b[0;34m[\u001b[0m\u001b[0;34m'sqft_living'\u001b[0m\u001b[0;34m]\u001b[0m \u001b[0;34m=\u001b[0m \u001b[0mdf_no_outliers\u001b[0m\u001b[0;34m(\u001b[0m\u001b[0mdf_seattle\u001b[0m\u001b[0;34m,\u001b[0m \u001b[0;34m'sqft_living'\u001b[0m\u001b[0;34m)\u001b[0m\u001b[0;34m\u001b[0m\u001b[0;34m\u001b[0m\u001b[0m\n\u001b[1;32m      3\u001b[0m \u001b[0mdf_country_no_outliers\u001b[0m\u001b[0;34m[\u001b[0m\u001b[0;34m'grade'\u001b[0m\u001b[0;34m]\u001b[0m \u001b[0;34m=\u001b[0m \u001b[0mdf_no_outliers\u001b[0m\u001b[0;34m(\u001b[0m\u001b[0mdf_country\u001b[0m\u001b[0;34m,\u001b[0m \u001b[0;34m'grade'\u001b[0m\u001b[0;34m)\u001b[0m\u001b[0;34m\u001b[0m\u001b[0;34m\u001b[0m\u001b[0m\n\u001b[1;32m      4\u001b[0m \u001b[0mdf_seattle_no_outliers\u001b[0m\u001b[0;34m[\u001b[0m\u001b[0;34m'waterfront'\u001b[0m\u001b[0;34m]\u001b[0m \u001b[0;34m=\u001b[0m \u001b[0mdf_seattle_no_outliers\u001b[0m\u001b[0;34m.\u001b[0m\u001b[0mwaterfront\u001b[0m\u001b[0;34m.\u001b[0m\u001b[0mfillna\u001b[0m\u001b[0;34m(\u001b[0m\u001b[0;36m0\u001b[0m\u001b[0;34m)\u001b[0m\u001b[0;34m\u001b[0m\u001b[0;34m\u001b[0m\u001b[0m\n\u001b[1;32m      5\u001b[0m \u001b[0mdf_seattle_no_outliers\u001b[0m \u001b[0;34m=\u001b[0m \u001b[0mdf_seattle_no_outliers\u001b[0m\u001b[0;34m.\u001b[0m\u001b[0mdropna\u001b[0m\u001b[0;34m(\u001b[0m\u001b[0;34m)\u001b[0m\u001b[0;34m\u001b[0m\u001b[0;34m\u001b[0m\u001b[0m\n",
      "\u001b[0;31mNameError\u001b[0m: name 'df_seattle_no_outliers' is not defined"
     ]
    }
   ],
   "source": [
    "df_seattle_no_outliers['bathrooms'] = df_no_outliers(df_seattle, 'bathrooms')\n",
    "df_seattle_no_outliers['sqft_living'] = df_no_outliers(df_seattle, 'sqft_living')\n",
    "df_country_no_outliers['grade'] = df_no_outliers(df_country, 'grade')\n",
    "df_seattle_no_outliers['waterfront'] = df_seattle_no_outliers.waterfront.fillna(0)\n",
    "df_seattle_no_outliers = df_seattle_no_outliers.dropna()"
   ]
  },
  {
   "cell_type": "code",
   "execution_count": 25,
   "metadata": {},
   "outputs": [],
   "source": [
    "df_rural_no_outliers = df_rural"
   ]
  },
  {
   "cell_type": "code",
   "execution_count": 26,
   "metadata": {},
   "outputs": [],
   "source": [
    "df_urban_no_outliers['bathrooms'] = df_no_outliers(df_urban, 'bathrooms')\n",
    "df_urban_no_outliers['sqft_living'] = df_no_outliers(df_urban, 'sqft_living')\n",
    "df_urban_no_outliers['waterfront'] = df_urban_no_outliers.waterfront.fillna(0)\n",
    "df_urban_no_outliers = df_urban_no_outliers.dropna()"
   ]
  },
  {
   "cell_type": "code",
   "execution_count": 27,
   "metadata": {},
   "outputs": [],
   "source": [
    "df_rural_no_outliers['bathrooms'] = df_no_outliers(df_rural, 'bathrooms')\n",
    "df_rural_no_outliers['sqft_living'] = df_no_outliers(df_rural, 'sqft_living')\n",
    "df_rural_no_outliers['grade'] = df_no_outliers(df_rural, 'grade')\n",
    "df_rural_no_outliers['waterfront'] = df_rural_no_outliers.waterfront.fillna(0)\n",
    "df_rural_no_outliers = df_rural_no_outliers.dropna()"
   ]
  },
  {
   "cell_type": "code",
   "execution_count": 28,
   "metadata": {},
   "outputs": [],
   "source": [
    "df_urban_no_outliers['sqft_open'] = df_urban_no_outliers['sqft_lot'] - df_urban_no_outliers['sqft_living']"
   ]
  },
  {
   "cell_type": "code",
   "execution_count": 29,
   "metadata": {},
   "outputs": [],
   "source": [
    "df_rural_no_outliers['sqft_open'] = df_rural_no_outliers['sqft_lot'] - df_rural_no_outliers['sqft_living']"
   ]
  },
  {
   "cell_type": "markdown",
   "metadata": {
    "tags": []
   },
   "source": [
    "## Assessing correlation and creating \"bedroom_num\""
   ]
  },
  {
   "cell_type": "code",
   "execution_count": 30,
   "metadata": {},
   "outputs": [
    {
     "data": {
      "text/plain": [
       "age                  -0.013327\n",
       "id                   -0.002237\n",
       "yr_renovated/built    0.013522\n",
       "long                  0.038108\n",
       "sqft_open             0.050990\n",
       "condition             0.060438\n",
       "sqft_lot              0.065370\n",
       "renovated             0.126094\n",
       "has_basement          0.168332\n",
       "waterfront            0.207567\n",
       "floors                0.244064\n",
       "bedrooms              0.270212\n",
       "lat                   0.374016\n",
       "bathrooms             0.445819\n",
       "sqft_living           0.625752\n",
       "grade                 0.634509\n",
       "price                 1.000000\n",
       "region                     NaN\n",
       "Name: price, dtype: float64"
      ]
     },
     "execution_count": 30,
     "metadata": {},
     "output_type": "execute_result"
    }
   ],
   "source": [
    "df_urban_no_outliers.corr()['price'].sort_values()"
   ]
  },
  {
   "cell_type": "code",
   "execution_count": 31,
   "metadata": {},
   "outputs": [
    {
     "data": {
      "text/plain": [
       "lat                   0.007891\n",
       "id                    0.028015\n",
       "renovated             0.074444\n",
       "has_basement          0.081868\n",
       "condition             0.160495\n",
       "long                  0.250033\n",
       "sqft_open             0.260690\n",
       "sqft_lot              0.267637\n",
       "bedrooms              0.468197\n",
       "age                   0.483628\n",
       "yr_renovated/built    0.484745\n",
       "floors                0.492898\n",
       "bathrooms             0.670663\n",
       "grade                 0.735302\n",
       "sqft_living           0.840379\n",
       "price                 1.000000\n",
       "waterfront                 NaN\n",
       "region                     NaN\n",
       "Name: price, dtype: float64"
      ]
     },
     "execution_count": 31,
     "metadata": {},
     "output_type": "execute_result"
    }
   ],
   "source": [
    "df_rural_no_outliers.corr()['price'].map(abs).sort_values()"
   ]
  },
  {
   "cell_type": "code",
   "execution_count": 32,
   "metadata": {},
   "outputs": [],
   "source": [
    "df_rural_no_outliers['bathroom_num'] = df_rural_no_outliers['bathrooms']*df_rural_no_outliers['bedrooms']\n",
    "df_urban_no_outliers['bathroom_num'] = df_urban_no_outliers['bathrooms']*df_urban_no_outliers['bedrooms']"
   ]
  },
  {
   "cell_type": "markdown",
   "metadata": {
    "tags": []
   },
   "source": [
    "# **Our Finished Models!**"
   ]
  },
  {
   "cell_type": "markdown",
   "metadata": {
    "tags": []
   },
   "source": [
    "## Model Creation and Summary"
   ]
  },
  {
   "cell_type": "code",
   "execution_count": 33,
   "metadata": {
    "tags": []
   },
   "outputs": [],
   "source": [
    "X_urban = sm.add_constant(df_urban_no_outliers[['sqft_living', 'grade', 'waterfront', 'has_basement']])\n",
    "y_urban = np.log(df_urban_no_outliers['price'])\n",
    "urban_model = sm.OLS(y_urban, X_urban)\n",
    "urban_results = urban_model.fit()"
   ]
  },
  {
   "cell_type": "code",
   "execution_count": 34,
   "metadata": {
    "tags": []
   },
   "outputs": [
    {
     "ename": "NameError",
     "evalue": "name 'df_country_no_outliers' is not defined",
     "output_type": "error",
     "traceback": [
      "\u001b[0;31m---------------------------------------------------------------------------\u001b[0m",
      "\u001b[0;31mNameError\u001b[0m                                 Traceback (most recent call last)",
      "\u001b[0;32m<ipython-input-34-e06df47b4427>\u001b[0m in \u001b[0;36m<module>\u001b[0;34m\u001b[0m\n\u001b[1;32m      3\u001b[0m \u001b[0mrural_model\u001b[0m \u001b[0;34m=\u001b[0m \u001b[0msm\u001b[0m\u001b[0;34m.\u001b[0m\u001b[0mOLS\u001b[0m\u001b[0;34m(\u001b[0m\u001b[0my_rural\u001b[0m\u001b[0;34m,\u001b[0m \u001b[0mX_rural\u001b[0m\u001b[0;34m)\u001b[0m\u001b[0;34m\u001b[0m\u001b[0;34m\u001b[0m\u001b[0m\n\u001b[1;32m      4\u001b[0m \u001b[0mrural_results\u001b[0m \u001b[0;34m=\u001b[0m \u001b[0mrural_model\u001b[0m\u001b[0;34m.\u001b[0m\u001b[0mfit\u001b[0m\u001b[0;34m(\u001b[0m\u001b[0;34m)\u001b[0m\u001b[0;34m\u001b[0m\u001b[0;34m\u001b[0m\u001b[0m\n\u001b[0;32m----> 5\u001b[0;31m \u001b[0mX_country\u001b[0m \u001b[0;34m=\u001b[0m \u001b[0msm\u001b[0m\u001b[0;34m.\u001b[0m\u001b[0madd_constant\u001b[0m\u001b[0;34m(\u001b[0m\u001b[0mdf_country_no_outliers\u001b[0m\u001b[0;34m[\u001b[0m\u001b[0;34m[\u001b[0m\u001b[0;34m'sqft_living'\u001b[0m\u001b[0;34m,\u001b[0m\u001b[0;34m'grade'\u001b[0m\u001b[0;34m,\u001b[0m \u001b[0;34m'sqft_open'\u001b[0m \u001b[0;34m]\u001b[0m\u001b[0;34m]\u001b[0m\u001b[0;34m)\u001b[0m\u001b[0;34m\u001b[0m\u001b[0;34m\u001b[0m\u001b[0m\n\u001b[0m\u001b[1;32m      6\u001b[0m \u001b[0my_country\u001b[0m \u001b[0;34m=\u001b[0m \u001b[0mdf_country_no_outliers\u001b[0m\u001b[0;34m[\u001b[0m\u001b[0;34m'price'\u001b[0m\u001b[0;34m]\u001b[0m\u001b[0;34m\u001b[0m\u001b[0;34m\u001b[0m\u001b[0m\n\u001b[1;32m      7\u001b[0m \u001b[0mcountry_model\u001b[0m \u001b[0;34m=\u001b[0m \u001b[0msm\u001b[0m\u001b[0;34m.\u001b[0m\u001b[0mOLS\u001b[0m\u001b[0;34m(\u001b[0m\u001b[0my_country\u001b[0m\u001b[0;34m,\u001b[0m \u001b[0mX_country\u001b[0m\u001b[0;34m)\u001b[0m\u001b[0;34m\u001b[0m\u001b[0;34m\u001b[0m\u001b[0m\n",
      "\u001b[0;31mNameError\u001b[0m: name 'df_country_no_outliers' is not defined"
     ]
    }
   ],
   "source": [
    "X_rural = sm.add_constant(df_rural_no_outliers[['sqft_living','grade', 'has_basement']])\n",
    "y_rural = df_rural_no_outliers['price']\n",
    "rural_model = sm.OLS(y_rural, X_rural)\n",
    "rural_results = rural_model.fit()\n",
    "X_country = sm.add_constant(df_country_no_outliers[['sqft_living','grade', 'sqft_open' ]])\n",
    "y_country = df_country_no_outliers['price']\n",
    "country_model = sm.OLS(y_country, X_country)\n",
    "country_results = country_model.fit()\n"
   ]
  },
  {
   "cell_type": "code",
   "execution_count": 35,
   "metadata": {
    "tags": []
   },
   "outputs": [
    {
     "data": {
      "text/html": [
       "<table class=\"simpletable\">\n",
       "<caption>Seattle Model Results</caption>\n",
       "<tr>\n",
       "  <th>Dep. Variable:</th>          <td>price</td>      <th>  R-squared:         </th> <td>   0.512</td> \n",
       "</tr>\n",
       "<tr>\n",
       "  <th>Model:</th>                   <td>OLS</td>       <th>  Adj. R-squared:    </th> <td>   0.512</td> \n",
       "</tr>\n",
       "<tr>\n",
       "  <th>Method:</th>             <td>Least Squares</td>  <th>  F-statistic:       </th> <td>   5280.</td> \n",
       "</tr>\n",
       "<tr>\n",
       "  <th>Date:</th>             <td>Sat, 31 Jul 2021</td> <th>  Prob (F-statistic):</th>  <td>  0.00</td>  \n",
       "</tr>\n",
       "<tr>\n",
       "  <th>Time:</th>                 <td>19:59:42</td>     <th>  Log-Likelihood:    </th> <td> -7126.4</td> \n",
       "</tr>\n",
       "<tr>\n",
       "  <th>No. Observations:</th>      <td> 20159</td>      <th>  AIC:               </th> <td>1.426e+04</td>\n",
       "</tr>\n",
       "<tr>\n",
       "  <th>Df Residuals:</th>          <td> 20154</td>      <th>  BIC:               </th> <td>1.430e+04</td>\n",
       "</tr>\n",
       "<tr>\n",
       "  <th>Df Model:</th>              <td>     4</td>      <th>                     </th>     <td> </td>    \n",
       "</tr>\n",
       "<tr>\n",
       "  <th>Covariance Type:</th>      <td>nonrobust</td>    <th>                     </th>     <td> </td>    \n",
       "</tr>\n",
       "</table>\n",
       "<table class=\"simpletable\">\n",
       "<tr>\n",
       "        <td></td>          <th>coef</th>     <th>std err</th>      <th>t</th>      <th>P>|t|</th>  <th>[0.025</th>    <th>0.975]</th>  \n",
       "</tr>\n",
       "<tr>\n",
       "  <th>const</th>        <td>   11.0735</td> <td>    0.020</td> <td>  558.322</td> <td> 0.000</td> <td>   11.035</td> <td>   11.112</td>\n",
       "</tr>\n",
       "<tr>\n",
       "  <th>sqft_living</th>  <td>    0.0002</td> <td> 4.77e-06</td> <td>   41.305</td> <td> 0.000</td> <td>    0.000</td> <td>    0.000</td>\n",
       "</tr>\n",
       "<tr>\n",
       "  <th>grade</th>        <td>    0.1977</td> <td>    0.003</td> <td>   59.490</td> <td> 0.000</td> <td>    0.191</td> <td>    0.204</td>\n",
       "</tr>\n",
       "<tr>\n",
       "  <th>waterfront</th>   <td>    0.6285</td> <td>    0.033</td> <td>   19.125</td> <td> 0.000</td> <td>    0.564</td> <td>    0.693</td>\n",
       "</tr>\n",
       "<tr>\n",
       "  <th>has_basement</th> <td>    0.1284</td> <td>    0.005</td> <td>   24.900</td> <td> 0.000</td> <td>    0.118</td> <td>    0.139</td>\n",
       "</tr>\n",
       "</table>\n",
       "<table class=\"simpletable\">\n",
       "<tr>\n",
       "  <th>Omnibus:</th>       <td>25.246</td> <th>  Durbin-Watson:     </th> <td>   1.969</td>\n",
       "</tr>\n",
       "<tr>\n",
       "  <th>Prob(Omnibus):</th> <td> 0.000</td> <th>  Jarque-Bera (JB):  </th> <td>  24.666</td>\n",
       "</tr>\n",
       "<tr>\n",
       "  <th>Skew:</th>          <td> 0.072</td> <th>  Prob(JB):          </th> <td>4.40e-06</td>\n",
       "</tr>\n",
       "<tr>\n",
       "  <th>Kurtosis:</th>      <td> 2.906</td> <th>  Cond. No.          </th> <td>2.88e+04</td>\n",
       "</tr>\n",
       "</table><br/><br/>Notes:<br/>[1] Standard Errors assume that the covariance matrix of the errors is correctly specified.<br/>[2] The condition number is large, 2.88e+04. This might indicate that there are<br/>strong multicollinearity or other numerical problems."
      ],
      "text/plain": [
       "<class 'statsmodels.iolib.summary.Summary'>\n",
       "\"\"\"\n",
       "                            Seattle Model Results                             \n",
       "==============================================================================\n",
       "Dep. Variable:                  price   R-squared:                       0.512\n",
       "Model:                            OLS   Adj. R-squared:                  0.512\n",
       "Method:                 Least Squares   F-statistic:                     5280.\n",
       "Date:                Sat, 31 Jul 2021   Prob (F-statistic):               0.00\n",
       "Time:                        19:59:42   Log-Likelihood:                -7126.4\n",
       "No. Observations:               20159   AIC:                         1.426e+04\n",
       "Df Residuals:                   20154   BIC:                         1.430e+04\n",
       "Df Model:                           4                                         \n",
       "Covariance Type:            nonrobust                                         \n",
       "================================================================================\n",
       "                   coef    std err          t      P>|t|      [0.025      0.975]\n",
       "--------------------------------------------------------------------------------\n",
       "const           11.0735      0.020    558.322      0.000      11.035      11.112\n",
       "sqft_living      0.0002   4.77e-06     41.305      0.000       0.000       0.000\n",
       "grade            0.1977      0.003     59.490      0.000       0.191       0.204\n",
       "waterfront       0.6285      0.033     19.125      0.000       0.564       0.693\n",
       "has_basement     0.1284      0.005     24.900      0.000       0.118       0.139\n",
       "==============================================================================\n",
       "Omnibus:                       25.246   Durbin-Watson:                   1.969\n",
       "Prob(Omnibus):                  0.000   Jarque-Bera (JB):               24.666\n",
       "Skew:                           0.072   Prob(JB):                     4.40e-06\n",
       "Kurtosis:                       2.906   Cond. No.                     2.88e+04\n",
       "==============================================================================\n",
       "\n",
       "Notes:\n",
       "[1] Standard Errors assume that the covariance matrix of the errors is correctly specified.\n",
       "[2] The condition number is large, 2.88e+04. This might indicate that there are\n",
       "strong multicollinearity or other numerical problems.\n",
       "\"\"\""
      ]
     },
     "execution_count": 35,
     "metadata": {},
     "output_type": "execute_result"
    }
   ],
   "source": [
    "urban_results.summary(title = 'Seattle Model Results')"
   ]
  },
  {
   "cell_type": "code",
   "execution_count": 36,
   "metadata": {
    "tags": []
   },
   "outputs": [
    {
     "data": {
      "text/html": [
       "<table class=\"simpletable\">\n",
       "<caption>Country Model Results</caption>\n",
       "<tr>\n",
       "  <th>Dep. Variable:</th>          <td>price</td>      <th>  R-squared:         </th> <td>   0.751</td> \n",
       "</tr>\n",
       "<tr>\n",
       "  <th>Model:</th>                   <td>OLS</td>       <th>  Adj. R-squared:    </th> <td>   0.750</td> \n",
       "</tr>\n",
       "<tr>\n",
       "  <th>Method:</th>             <td>Least Squares</td>  <th>  F-statistic:       </th> <td>   706.1</td> \n",
       "</tr>\n",
       "<tr>\n",
       "  <th>Date:</th>             <td>Sat, 31 Jul 2021</td> <th>  Prob (F-statistic):</th> <td>1.34e-211</td>\n",
       "</tr>\n",
       "<tr>\n",
       "  <th>Time:</th>                 <td>19:59:42</td>     <th>  Log-Likelihood:    </th> <td> -8897.4</td> \n",
       "</tr>\n",
       "<tr>\n",
       "  <th>No. Observations:</th>      <td>   707</td>      <th>  AIC:               </th> <td>1.780e+04</td>\n",
       "</tr>\n",
       "<tr>\n",
       "  <th>Df Residuals:</th>          <td>   703</td>      <th>  BIC:               </th> <td>1.782e+04</td>\n",
       "</tr>\n",
       "<tr>\n",
       "  <th>Df Model:</th>              <td>     3</td>      <th>                     </th>     <td> </td>    \n",
       "</tr>\n",
       "<tr>\n",
       "  <th>Covariance Type:</th>      <td>nonrobust</td>    <th>                     </th>     <td> </td>    \n",
       "</tr>\n",
       "</table>\n",
       "<table class=\"simpletable\">\n",
       "<tr>\n",
       "        <td></td>          <th>coef</th>     <th>std err</th>      <th>t</th>      <th>P>|t|</th>  <th>[0.025</th>    <th>0.975]</th>  \n",
       "</tr>\n",
       "<tr>\n",
       "  <th>const</th>        <td>-1.269e+05</td> <td> 2.52e+04</td> <td>   -5.032</td> <td> 0.000</td> <td>-1.76e+05</td> <td>-7.74e+04</td>\n",
       "</tr>\n",
       "<tr>\n",
       "  <th>sqft_living</th>  <td>  121.6805</td> <td>    5.014</td> <td>   24.269</td> <td> 0.000</td> <td>  111.837</td> <td>  131.524</td>\n",
       "</tr>\n",
       "<tr>\n",
       "  <th>grade</th>        <td> 4.239e+04</td> <td> 4179.933</td> <td>   10.141</td> <td> 0.000</td> <td> 3.42e+04</td> <td> 5.06e+04</td>\n",
       "</tr>\n",
       "<tr>\n",
       "  <th>has_basement</th> <td>-2.609e+04</td> <td> 7351.564</td> <td>   -3.549</td> <td> 0.000</td> <td>-4.05e+04</td> <td>-1.17e+04</td>\n",
       "</tr>\n",
       "</table>\n",
       "<table class=\"simpletable\">\n",
       "<tr>\n",
       "  <th>Omnibus:</th>       <td>107.438</td> <th>  Durbin-Watson:     </th> <td>   2.039</td>\n",
       "</tr>\n",
       "<tr>\n",
       "  <th>Prob(Omnibus):</th> <td> 0.000</td>  <th>  Jarque-Bera (JB):  </th> <td> 322.710</td>\n",
       "</tr>\n",
       "<tr>\n",
       "  <th>Skew:</th>          <td> 0.738</td>  <th>  Prob(JB):          </th> <td>8.40e-71</td>\n",
       "</tr>\n",
       "<tr>\n",
       "  <th>Kurtosis:</th>      <td> 5.962</td>  <th>  Cond. No.          </th> <td>2.21e+04</td>\n",
       "</tr>\n",
       "</table><br/><br/>Notes:<br/>[1] Standard Errors assume that the covariance matrix of the errors is correctly specified.<br/>[2] The condition number is large, 2.21e+04. This might indicate that there are<br/>strong multicollinearity or other numerical problems."
      ],
      "text/plain": [
       "<class 'statsmodels.iolib.summary.Summary'>\n",
       "\"\"\"\n",
       "                            Country Model Results                             \n",
       "==============================================================================\n",
       "Dep. Variable:                  price   R-squared:                       0.751\n",
       "Model:                            OLS   Adj. R-squared:                  0.750\n",
       "Method:                 Least Squares   F-statistic:                     706.1\n",
       "Date:                Sat, 31 Jul 2021   Prob (F-statistic):          1.34e-211\n",
       "Time:                        19:59:42   Log-Likelihood:                -8897.4\n",
       "No. Observations:                 707   AIC:                         1.780e+04\n",
       "Df Residuals:                     703   BIC:                         1.782e+04\n",
       "Df Model:                           3                                         \n",
       "Covariance Type:            nonrobust                                         \n",
       "================================================================================\n",
       "                   coef    std err          t      P>|t|      [0.025      0.975]\n",
       "--------------------------------------------------------------------------------\n",
       "const        -1.269e+05   2.52e+04     -5.032      0.000   -1.76e+05   -7.74e+04\n",
       "sqft_living    121.6805      5.014     24.269      0.000     111.837     131.524\n",
       "grade         4.239e+04   4179.933     10.141      0.000    3.42e+04    5.06e+04\n",
       "has_basement -2.609e+04   7351.564     -3.549      0.000   -4.05e+04   -1.17e+04\n",
       "==============================================================================\n",
       "Omnibus:                      107.438   Durbin-Watson:                   2.039\n",
       "Prob(Omnibus):                  0.000   Jarque-Bera (JB):              322.710\n",
       "Skew:                           0.738   Prob(JB):                     8.40e-71\n",
       "Kurtosis:                       5.962   Cond. No.                     2.21e+04\n",
       "==============================================================================\n",
       "\n",
       "Notes:\n",
       "[1] Standard Errors assume that the covariance matrix of the errors is correctly specified.\n",
       "[2] The condition number is large, 2.21e+04. This might indicate that there are\n",
       "strong multicollinearity or other numerical problems.\n",
       "\"\"\""
      ]
     },
     "execution_count": 36,
     "metadata": {},
     "output_type": "execute_result"
    }
   ],
   "source": [
    "rural_results.summary(title='Country Model Results')"
   ]
  },
  {
   "cell_type": "code",
   "execution_count": 37,
   "metadata": {
    "tags": []
   },
   "outputs": [
    {
     "ename": "NameError",
     "evalue": "name 'seattle_results' is not defined",
     "output_type": "error",
     "traceback": [
      "\u001b[0;31m---------------------------------------------------------------------------\u001b[0m",
      "\u001b[0;31mNameError\u001b[0m                                 Traceback (most recent call last)",
      "\u001b[0;32m<ipython-input-37-f6dc916f9dc3>\u001b[0m in \u001b[0;36m<module>\u001b[0;34m\u001b[0m\n\u001b[0;32m----> 1\u001b[0;31m \u001b[0mseattle_results\u001b[0m\u001b[0;34m.\u001b[0m\u001b[0msummary\u001b[0m\u001b[0;34m(\u001b[0m\u001b[0;34m)\u001b[0m\u001b[0;34m\u001b[0m\u001b[0;34m\u001b[0m\u001b[0m\n\u001b[0m",
      "\u001b[0;31mNameError\u001b[0m: name 'seattle_results' is not defined"
     ]
    }
   ],
   "source": [
    "seattle_results.summary()"
   ]
  },
  {
   "cell_type": "code",
   "execution_count": 38,
   "metadata": {},
   "outputs": [
    {
     "ename": "NameError",
     "evalue": "name 'country_results' is not defined",
     "output_type": "error",
     "traceback": [
      "\u001b[0;31m---------------------------------------------------------------------------\u001b[0m",
      "\u001b[0;31mNameError\u001b[0m                                 Traceback (most recent call last)",
      "\u001b[0;32m<ipython-input-38-89d1665f4717>\u001b[0m in \u001b[0;36m<module>\u001b[0;34m\u001b[0m\n\u001b[0;32m----> 1\u001b[0;31m \u001b[0mcountry_results\u001b[0m\u001b[0;34m.\u001b[0m\u001b[0msummary\u001b[0m\u001b[0;34m(\u001b[0m\u001b[0;34m)\u001b[0m\u001b[0;34m\u001b[0m\u001b[0;34m\u001b[0m\u001b[0m\n\u001b[0m",
      "\u001b[0;31mNameError\u001b[0m: name 'country_results' is not defined"
     ]
    }
   ],
   "source": [
    "country_results.summary()"
   ]
  },
  {
   "cell_type": "markdown",
   "metadata": {
    "tags": []
   },
   "source": [
    "## Checking Assumptions for model"
   ]
  },
  {
   "cell_type": "code",
   "execution_count": 39,
   "metadata": {
    "tags": []
   },
   "outputs": [
    {
     "ename": "NameError",
     "evalue": "name 'check_model' is not defined",
     "output_type": "error",
     "traceback": [
      "\u001b[0;31m---------------------------------------------------------------------------\u001b[0m",
      "\u001b[0;31mNameError\u001b[0m                                 Traceback (most recent call last)",
      "\u001b[0;32m<ipython-input-39-d1da6b76488f>\u001b[0m in \u001b[0;36m<module>\u001b[0;34m\u001b[0m\n\u001b[0;32m----> 1\u001b[0;31m \u001b[0mcheck_model\u001b[0m\u001b[0;34m(\u001b[0m\u001b[0murban_model\u001b[0m\u001b[0;34m,\u001b[0m \u001b[0mX_urban\u001b[0m\u001b[0;34m,\u001b[0m \u001b[0my_urban\u001b[0m\u001b[0;34m)\u001b[0m\u001b[0;34m\u001b[0m\u001b[0;34m\u001b[0m\u001b[0m\n\u001b[0m",
      "\u001b[0;31mNameError\u001b[0m: name 'check_model' is not defined"
     ]
    }
   ],
   "source": [
    "check_model(urban_model, X_urban, y_urban)"
   ]
  },
  {
   "cell_type": "code",
   "execution_count": 40,
   "metadata": {
    "tags": []
   },
   "outputs": [
    {
     "ename": "NameError",
     "evalue": "name 'check_model' is not defined",
     "output_type": "error",
     "traceback": [
      "\u001b[0;31m---------------------------------------------------------------------------\u001b[0m",
      "\u001b[0;31mNameError\u001b[0m                                 Traceback (most recent call last)",
      "\u001b[0;32m<ipython-input-40-80cb5f824620>\u001b[0m in \u001b[0;36m<module>\u001b[0;34m\u001b[0m\n\u001b[0;32m----> 1\u001b[0;31m \u001b[0mcheck_model\u001b[0m\u001b[0;34m(\u001b[0m\u001b[0mseattle_model\u001b[0m\u001b[0;34m,\u001b[0m \u001b[0mX_seattle\u001b[0m\u001b[0;34m,\u001b[0m \u001b[0my_seattle\u001b[0m\u001b[0;34m)\u001b[0m\u001b[0;34m\u001b[0m\u001b[0;34m\u001b[0m\u001b[0m\n\u001b[0m",
      "\u001b[0;31mNameError\u001b[0m: name 'check_model' is not defined"
     ]
    }
   ],
   "source": [
    "check_model(seattle_model, X_seattle, y_seattle)"
   ]
  },
  {
   "cell_type": "code",
   "execution_count": 41,
   "metadata": {
    "tags": []
   },
   "outputs": [
    {
     "ename": "NameError",
     "evalue": "name 'check_model' is not defined",
     "output_type": "error",
     "traceback": [
      "\u001b[0;31m---------------------------------------------------------------------------\u001b[0m",
      "\u001b[0;31mNameError\u001b[0m                                 Traceback (most recent call last)",
      "\u001b[0;32m<ipython-input-41-923f9c8d5d72>\u001b[0m in \u001b[0;36m<module>\u001b[0;34m\u001b[0m\n\u001b[0;32m----> 1\u001b[0;31m \u001b[0mcheck_model\u001b[0m\u001b[0;34m(\u001b[0m\u001b[0mrural_model\u001b[0m\u001b[0;34m,\u001b[0m \u001b[0mX_rural\u001b[0m\u001b[0;34m,\u001b[0m \u001b[0my_rural\u001b[0m\u001b[0;34m)\u001b[0m\u001b[0;34m\u001b[0m\u001b[0;34m\u001b[0m\u001b[0m\n\u001b[0m",
      "\u001b[0;31mNameError\u001b[0m: name 'check_model' is not defined"
     ]
    }
   ],
   "source": [
    "check_model(rural_model, X_rural, y_rural)"
   ]
  },
  {
   "cell_type": "markdown",
   "metadata": {
    "tags": []
   },
   "source": [
    "# **Creating Visuals**"
   ]
  },
  {
   "cell_type": "markdown",
   "metadata": {
    "tags": []
   },
   "source": [
    "## Bar Plot for grade and mean price"
   ]
  },
  {
   "cell_type": "code",
   "execution_count": 42,
   "metadata": {
    "tags": []
   },
   "outputs": [],
   "source": [
    "bp_df_urban = pd.DataFrame(df_urban_no_outliers.groupby(['grade']).mean()['price']).reset_index()\n",
    "bp_df_rural = pd.DataFrame(df_rural.groupby(['grade']).mean()['price']).reset_index()"
   ]
  },
  {
   "cell_type": "code",
   "execution_count": null,
   "metadata": {
    "tags": []
   },
   "outputs": [],
   "source": [
    "fig, ax = plt.subplots(figsize=(10,7))\n",
    "sns.barplot(data = bp_df_urban, x='grade', y='price');\n",
    "\n",
    "plt.xticks(size=13);\n",
    "plt.yticks(size=13)\n",
    "ax.set_title('Mean Price per Grade', fontsize=20)\n",
    "ax.set_xlabel('Grade', fontsize=15)\n",
    "ax.set_ylabel('Price (in millions)', fontsize=15);\n",
    "plt.savefig('Urban-grade-barplot')"
   ]
  },
  {
   "cell_type": "code",
   "execution_count": null,
   "metadata": {},
   "outputs": [],
   "source": [
    "fig, ax = plt.subplots(figsize=(10,7))\n",
    "sns.barplot(data = bp_df_rural, x='grade', y='price');\n",
    "ax.set_xlabel('Grade', fontsize=18)\n",
    "\n",
    "plt.xticks(size=13);\n",
    "plt.yticks(size=13)\n",
    "ax.set_title('Price by Square Footage of House (Rural)', fontsize=20)\n",
    "ax.set_xlabel('Grade', fontsize=15)\n",
    "ax.set_ylabel('Price', fontsize=15);\n",
    "plt.savefig('Rural-grade-barplot')"
   ]
  },
  {
   "cell_type": "markdown",
   "metadata": {
    "tags": []
   },
   "source": [
    "## Making Scatterplots for Sqft and Price"
   ]
  },
  {
   "cell_type": "code",
   "execution_count": null,
   "metadata": {},
   "outputs": [],
   "source": [
    "df_urban_no_outliers['sqft_living_group'] = pd.qcut(df_urban_no_outliers['sqft_living'], q=100)"
   ]
  },
  {
   "cell_type": "code",
   "execution_count": null,
   "metadata": {},
   "outputs": [],
   "source": [
    "df_rural_no_outliers['sqft_living_group'] = pd.qcut(df_rural_no_outliers['sqft_living'], q=100)"
   ]
  },
  {
   "cell_type": "code",
   "execution_count": null,
   "metadata": {},
   "outputs": [],
   "source": [
    "df_urban_no_outliers['sqft_upper'] = df_urban_no_outliers['sqft_living_group'].apply(lambda x: x.right)\n",
    "u_sqft_price_bar = df_urban_no_outliers.groupby('sqft_upper').mean()['price'].reset_index()\n",
    "u_sqft_price_bar"
   ]
  },
  {
   "cell_type": "code",
   "execution_count": null,
   "metadata": {},
   "outputs": [],
   "source": [
    "df_rural_no_outliers['sqft_upper'] = df_rural_no_outliers['sqft_living_group'].apply(lambda x: x.right)\n",
    "r_sqft_price_bar = df_rural_no_outliers.groupby(['sqft_upper','waterfront']).mean()['price'].reset_index()\n",
    "r_sqft_price_bar"
   ]
  },
  {
   "cell_type": "code",
   "execution_count": null,
   "metadata": {},
   "outputs": [],
   "source": [
    "fig, ax = plt.subplots(figsize=(10,7))\n",
    "sns.regplot(data = u_sqft_price_bar, x='sqft_upper', y='price', \n",
    "                       line_kws={'color':'green',}, \n",
    "                       scatter_kws={'alpha':1})\n",
    "plt.xticks(size=13);\n",
    "plt.yticks(size=13)\n",
    "ax.set_title('Price by Square Footage of House (Urban)', fontsize=20)\n",
    "ax.set_xlabel('Square Footage', fontsize=20)\n",
    "ax.set_ylabel('Price (in millions)', fontsize=20);\n",
    "plt.savefig('Urban-sqft-scatterplot')"
   ]
  },
  {
   "cell_type": "code",
   "execution_count": null,
   "metadata": {},
   "outputs": [],
   "source": [
    "fig, ax = plt.subplots(figsize=(10,7))\n",
    "sns.regplot(data = r_sqft_price_bar, x='sqft_upper', y='price', \n",
    "                       line_kws={'color':'green',}, \n",
    "                       scatter_kws={'alpha':1})\n",
    "plt.xticks(size=13);\n",
    "plt.yticks(size=13)\n",
    "ax.set_title('Price by Square Footage of House (Rural)', fontsize=20)\n",
    "ax.set_xlabel('Square Footage', fontsize=20)\n",
    "ax.set_ylabel('Price', fontsize=20);\n",
    "plt.savefig('Rural-sqft-scatterplot')"
   ]
  },
  {
   "cell_type": "markdown",
   "metadata": {
    "tags": []
   },
   "source": [
    "## Waterfront Visual"
   ]
  },
  {
   "cell_type": "code",
   "execution_count": null,
   "metadata": {},
   "outputs": [],
   "source": [
    "poop = df_urban_no_outliers.groupby('waterfront').mean()['price'].reset_index()\n",
    "fig, ax = plt.subplots(figsize=(10,7))\n",
    "sns.barplot(data = poop, x='waterfront', y='price');\n",
    "\n",
    "plt.xticks(size=13);\n",
    "plt.yticks(size=13)\n",
    "ax.set_title('Mean Price by Waterfront View', fontsize=20)\n",
    "ax.set_xlabel('Grade', fontsize=15)\n",
    "ax.set_ylabel('Price (in millions)', fontsize=15);\n",
    "plt.savefig('Urban-waterfront-barplot')"
   ]
  },
  {
   "cell_type": "markdown",
   "metadata": {
    "tags": []
   },
   "source": [
    "## Bar Plot with Sqft and Waterfront Together"
   ]
  },
  {
   "cell_type": "code",
   "execution_count": null,
   "metadata": {},
   "outputs": [],
   "source": [
    "df_urban_no_outliers['waterfront_sqft'] = pd.qcut(df_urban_no_outliers['sqft_living'], q=10)\n",
    "df_urban_no_outliers['waterfront_sqft_upper'] = df_urban_no_outliers['waterfront_sqft'].apply(lambda x: x.right)"
   ]
  },
  {
   "cell_type": "code",
   "execution_count": null,
   "metadata": {},
   "outputs": [],
   "source": [
    "cat = df_urban_no_outliers[['price', 'waterfront_sqft_upper','waterfront']]\n",
    "range_list = [cat.waterfront_sqft_upper.value_counts().sort_index().index]"
   ]
  },
  {
   "cell_type": "code",
   "execution_count": null,
   "metadata": {},
   "outputs": [],
   "source": [
    "cat_exp = cat.sort_values('waterfront_sqft_upper').loc[cat['waterfront_sqft_upper']==1079.6].loc[cat['waterfront']==1]\n",
    "cat_exp2 = cat.sort_values('waterfront_sqft_upper').loc[cat['waterfront_sqft_upper']==1310.0].loc[cat['waterfront']==1]\n",
    "cat_exp3 = cat.sort_values('waterfront_sqft_upper').loc[cat['waterfront_sqft_upper']==1500.0].loc[cat['waterfront']==1]\n",
    "cat_exp4 = cat.sort_values('waterfront_sqft_upper').loc[cat['waterfront_sqft_upper']==1680.0].loc[cat['waterfront']==1]\n",
    "cat_exp5 = cat.sort_values('waterfront_sqft_upper').loc[cat['waterfront_sqft_upper']==1870.0].loc[cat['waterfront']==1]\n",
    "cat_exp6 = cat.sort_values('waterfront_sqft_upper').loc[cat['waterfront_sqft_upper']==2090.0].loc[cat['waterfront']==1]\n",
    "cat_exp7 = cat.sort_values('waterfront_sqft_upper').loc[cat['waterfront_sqft_upper']==2320.0].loc[cat['waterfront']==1]\n",
    "cat_exp8 = cat.sort_values('waterfront_sqft_upper').loc[cat['waterfront_sqft_upper']==2620.0].loc[cat['waterfront']==1]\n",
    "cat_exp9 = cat.sort_values('waterfront_sqft_upper').loc[cat['waterfront_sqft_upper']==3080.0].loc[cat['waterfront']==1]\n",
    "cat_exp10 = cat.sort_values('waterfront_sqft_upper').loc[cat['waterfront_sqft_upper']==4220.0].loc[cat['waterfront']==1]\n",
    "\n",
    "no_cat_exp = cat.sort_values('waterfront_sqft_upper').loc[cat['waterfront_sqft_upper']==1079.6].loc[cat['waterfront']!=1]\n",
    "no_cat_exp2 = cat.sort_values('waterfront_sqft_upper').loc[cat['waterfront_sqft_upper']==1310.0].loc[cat['waterfront']!=1]\n",
    "no_cat_exp3 = cat.sort_values('waterfront_sqft_upper').loc[cat['waterfront_sqft_upper']==1500.0].loc[cat['waterfront']!=1]\n",
    "no_cat_exp4 = cat.sort_values('waterfront_sqft_upper').loc[cat['waterfront_sqft_upper']==1680.0].loc[cat['waterfront']!=1]\n",
    "no_cat_exp5 = cat.sort_values('waterfront_sqft_upper').loc[cat['waterfront_sqft_upper']==1870.0].loc[cat['waterfront']!=1]\n",
    "no_cat_exp6 = cat.sort_values('waterfront_sqft_upper').loc[cat['waterfront_sqft_upper']==2090.0].loc[cat['waterfront']!=1]\n",
    "no_cat_exp7 = cat.sort_values('waterfront_sqft_upper').loc[cat['waterfront_sqft_upper']==2320.0].loc[cat['waterfront']!=1]\n",
    "no_cat_exp8 = cat.sort_values('waterfront_sqft_upper').loc[cat['waterfront_sqft_upper']==2620.0].loc[cat['waterfront']!=1]\n",
    "no_cat_exp9 = cat.sort_values('waterfront_sqft_upper').loc[cat['waterfront_sqft_upper']==3080.0].loc[cat['waterfront']!=1]\n",
    "no_cat_exp10 = cat.sort_values('waterfront_sqft_upper').loc[cat['waterfront_sqft_upper']==4220.0].loc[cat['waterfront']!=1]\n",
    "\n",
    "\n",
    "waterfronts = pd.concat([cat_exp, cat_exp2, cat_exp3, cat_exp4, cat_exp5, cat_exp6, cat_exp7, cat_exp8, cat_exp9, cat_exp10], axis=0)\n",
    "no_waterfronts = pd.concat([no_cat_exp, no_cat_exp2, no_cat_exp3, no_cat_exp4, no_cat_exp5, no_cat_exp6, no_cat_exp7, no_cat_exp8, no_cat_exp9, no_cat_exp10], axis=0)"
   ]
  },
  {
   "cell_type": "code",
   "execution_count": null,
   "metadata": {},
   "outputs": [],
   "source": [
    "range_list = list(range_list[0])"
   ]
  },
  {
   "cell_type": "code",
   "execution_count": null,
   "metadata": {},
   "outputs": [],
   "source": [
    "w_s_bp = waterfronts.groupby('waterfront_sqft_upper').mean().reset_index()\n",
    "nw_s_bp = no_waterfronts.groupby('waterfront_sqft_upper').mean().reset_index()\n",
    "\n",
    "N = 10\n",
    "ind = np.arange(N)\n",
    "width = .25\n",
    "\n",
    "fig, ax = plt.subplots(figsize=(10,7))\n",
    "bar1 = plt.bar(x=ind, height=w_s_bp['price'], width = width)\n",
    "bar2 = plt.bar(x=ind+width, height=nw_s_bp['price'], width=width)\n",
    "plt.xticks(size=13);\n",
    "plt.yticks(size=13)\n",
    "ax.set_title('Price per Square Footage', fontsize=20)\n",
    "ax.set_xlabel('Square Footage Interval', fontsize=15)\n",
    "ax.set_ylabel('Price (in millions)', fontsize=15)\n",
    "plt.xticks(ind+width/2, range_list);\n",
    "ax.legend(['waterfront homes','non-waterfront homes'], fontsize=15)\n",
    "plt.savefig('price-sqft-waterfront')"
   ]
  },
  {
   "cell_type": "markdown",
   "metadata": {
    "tags": []
   },
   "source": [
    "# **Reports**"
   ]
  },
  {
   "cell_type": "markdown",
   "metadata": {
    "tags": []
   },
   "source": [
    "## Seattle Model Report\n",
    "\n",
    "#### Overview\n",
    "Our model using data from within the city of Seattle was created to infer how potential factors affected the selling prices of homes within that specified area. By modeling multiple independent variables in relation to price, we narrowed down the truly significant factors to be the house's square footage (sqft_living), the number of bathrooms per bedroom (bathrooms), whether it had a basement or not (has_basement),  whether it had a waterfront view or not (waterfront), and the overall grade of the house as defined by the King County grading system (grade). The goal of our model was to provide an accurate change in sales price in respect to changing each one of those variables.\n",
    "- Note: sqft_living correspondes with the square footage of the structure, not the square footage of the lot or property\n",
    "\n",
    "The pricing of the homes was log-transformed to more cleanly fit with our model. By doing so, it passed the assumptions neccesary for providing inference. \n",
    "\n",
    "#### Interpreting the Model\n",
    "The coefficients associated with our model represent the proportion at which the sales price changes, given that the independent variable increased by 1 unit. \n",
    "\n",
    "The coefficient for sqft_living is **0.0002**, which means for every 1 sqft increase in house area, the price of that home goes up by 0.02%. While this may seem small, square footage increases multiplicitly rate when expanding the length and width of a house; adding 10 feet to the width and 10 feet to the length of a house results in 100 additional sqft. \n",
    "\n",
    "The coefficient for grade is **0.2039**. This means that increasing the grade of the house by 1 increases the price by roughly 20.4%.\n",
    "\n",
    "The coefficient for ratio of bathrooms is **-0.0342**. This means that by increasing the ratio of bathrooms to bedrooms by 1, the price *decreases* by 3.42%. For example, if you have 2 bathrooms for every bedroom, and increase that number to 3 bathrooms per bedroom, you will lower the value of the home.\n",
    "\n",
    "The coefficient for has_basement is **0.1303**. This means that adding a basement to your home would increase the price by 13.03%.\n",
    "\n",
    "The coefficient for waterfront is **0.6208**. This means that by having a waterfront view, the value of your home goes up by 62.08%.\n",
    "- While adding a waterfront view is impossible for some homes, this metric applies to houses with *potential* waterfront views that do not utilize them. If you have a veiw of the water that is blocked, it would behoove you to remove that obstruction."
   ]
  },
  {
   "cell_type": "markdown",
   "metadata": {},
   "source": [
    "## Country Model Report\n",
    "\n",
    "#### Overview\n",
    "Our model using data from the outskirts of Seattle was created to infer how potential factors affected the selling prices of homes within that specified area. By modeling multiple independent variables in relation to price, we narrowed down the truly significant factors to be the house's square footage (sqft_living), whether it had a basement or not (has_basement), and the overall grade of the house as defined by the King County grading system (grade). The goal of our model was to provide an accurate change in sales price in respect to changing each one of those variables.\n",
    "\n",
    "- Note: sqft_living correspondes with the square footage of the structure, not the square footage of the lot or property\n",
    "\n",
    "\n",
    "#### Interpreting the Model\n",
    "The coefficients associated with our model represent the proportion at which the sales price changes, given that the independent variable increased by 1 unit.\n",
    "\n",
    "The coefficient for sqft_living is **121.6805**, which means for every 1 sqft increase in house area, the price of that home goes up by $121.6805. While this may seem small, square footage increases multiplicitly rate when expanding the length and width of a house; adding 10 feet to the width and 10 feet to the length of a house results in 100 additional sqft.\n",
    "\n",
    "The coefficient for grade is **42,390**. This means that increasing the grade of the house by 1 increases the price by roughly $42,390.\n",
    "\n",
    "The coefficient for has_basement is **-26,090**. This means that adding a basement to your home would decrease the price by -$26,090.\n",
    "- A reason that adding a basement to a house could decrease the value could be that most modern housing in the area do not have basements and tend to build layers above ground instead of underground unless the house is situated on a hill. Building trends like this could be very important to many potential buyers.\n"
   ]
  }
 ],
 "metadata": {
  "kernelspec": {
   "display_name": "python-3",
   "language": "python",
   "name": "learn-env"
  },
  "language_info": {
   "codemirror_mode": {
    "name": "ipython",
    "version": 3
   },
   "file_extension": ".py",
   "mimetype": "text/x-python",
   "name": "python",
   "nbconvert_exporter": "python",
   "pygments_lexer": "ipython3",
   "version": "3.8.8"
  },
  "nbdime-conflicts": {
   "local_diff": [
    {
     "diff": [
      {
       "diff": [
        {
         "diff": [
          {
           "key": 4,
           "op": "addrange",
           "valuelist": "8"
          },
          {
           "key": 4,
           "length": 1,
           "op": "removerange"
          }
         ],
         "key": 0,
         "op": "patch"
        }
       ],
       "key": "version",
       "op": "patch"
      }
     ],
     "key": "language_info",
     "op": "patch"
    }
   ],
   "remote_diff": [
    {
     "diff": [
      {
       "diff": [
        {
         "diff": [
          {
           "key": 4,
           "op": "addrange",
           "valuelist": "5"
          },
          {
           "key": 4,
           "length": 1,
           "op": "removerange"
          }
         ],
         "key": 0,
         "op": "patch"
        }
       ],
       "key": "version",
       "op": "patch"
      }
     ],
     "key": "language_info",
     "op": "patch"
    }
   ]
  },
  "toc-autonumbering": false
 },
 "nbformat": 4,
 "nbformat_minor": 4
}
